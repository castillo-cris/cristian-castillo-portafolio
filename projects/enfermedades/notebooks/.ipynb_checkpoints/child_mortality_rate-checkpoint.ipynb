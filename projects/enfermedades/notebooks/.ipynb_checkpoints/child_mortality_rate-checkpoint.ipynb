{
 "cells": [
  {
   "cell_type": "markdown",
   "id": "2a01501f-1a2b-4d08-b24d-5ddc2a8b0e04",
   "metadata": {},
   "source": [
    "<div style=\"background-color:#e6f2ff; padding:15px; border-radius:8px;\">\n",
    "  <h1>🌍 Infant Mortality — Global Analysis with Our World in Data</h1>\n",
    "  <p>This notebook explores global trends in <strong>infant mortality</strong> using data from \n",
    "  <a href=\"https://ourworldindata.org/child-mortality\">Our World in Data</a>, an online publication developed by researchers at the <strong>University of Oxford</strong>. Its mission is to show how the world is changing through <em>empirical data</em>, <em>interactive visualizations</em>, and <em>accessible analysis</em> for the general public.</p>\n",
    "\n",
    "  <h2>📁 Dataset Overview</h2>\n",
    "  <p>We use the <strong>Child Mortality Rate</strong> dataset, which provides information on the <strong>percentage of child deaths</strong> relative to each country's population.</p>\n",
    "\n",
    "  <h2>📌 Key Considerations</h2>\n",
    "  <ul>\n",
    "    <li>📅 Records date back to <strong>1751</strong> for a few countries; others begin more recently.</li>\n",
    "    <li>🌐 No data available for:\n",
    "      <ul>\n",
    "        <li>🇨🇮 <strong>Ivory Coast</strong></li>\n",
    "        <li>🇨🇩 <strong>Democratic Republic of the Congo</strong></li>\n",
    "      </ul>\n",
    "    </li>\n",
    "  </ul>\n",
    "\n",
    "  <blockquote>This analysis aims to identify patterns, regional contrasts, and historical trends in infant mortality.</blockquote>\n",
    "</div>"
   ]
  },
  {
   "cell_type": "markdown",
   "id": "bc489db6-3b22-4aad-9b91-a17c7ff7883e",
   "metadata": {},
   "source": [
    "<div style=\"background-color:#e6ffe6; padding:15px; border-radius:8px;\">\n",
    "  <h1>🌍 Mortalidad Infantil — Análisis Global con Our World in Data</h1>\n",
    "  <p>Este notebook analiza las tendencias globales en <strong>mortalidad infantil</strong> utilizando datos de \n",
    "  <a href=\"https://ourworldindata.org/child-mortality\">Our World in Data</a>, una publicación en línea desarrollada por investigadores de la <strong>Universidad de Oxford</strong>. Su objetivo es mostrar cómo está cambiando el mundo a través de <em>datos empíricos</em>, <em>visualizaciones interactivas</em> y <em>análisis accesibles</em> para el público general.</p>\n",
    "\n",
    "  <h2>📁 Conjunto de datos</h2>\n",
    "  <p>Se utiliza el conjunto de datos <strong>Child Mortality Rate</strong>, que contiene información sobre el <strong>porcentaje de mortalidad infantil</strong> en relación con la población total de cada país.</p>\n",
    "\n",
    "  <h2>📌 Aspectos clave</h2>\n",
    "  <ul>\n",
    "    <li>📅 Los registros comienzan en <strong>1751</strong> para algunos países; otros tienen datos más recientes.</li>\n",
    "    <li>🌐 No hay información disponible para:\n",
    "      <ul>\n",
    "        <li>🇨🇮 <strong>Costa de Marfil</strong></li>\n",
    "        <li>🇨🇩 <strong>República Democrática del Congo</strong></li>\n",
    "      </ul>\n",
    "    </li>\n",
    "  </ul>\n",
    "\n",
    "  <blockquote>Este análisis busca identificar patrones, contrastes regionales y tendencias históricas en la mortalidad infantil.</blockquote>\n",
    "</div>"
   ]
  },
  {
   "cell_type": "markdown",
   "id": "10bf272a-4de9-4a48-819a-d5112b2dd169",
   "metadata": {},
   "source": [
    "<div style=\"background-color:#e6f2ff; padding:15px; border-radius:8px;\">\n",
    "  <h3>📊 Dataset Overview</h3>\n",
    "  <p>This notebook uses the <strong>Child Mortality Rate</strong> dataset from <em>Our World in Data</em>, covering global trends from 1751 onward.</p>\n",
    "</div>\n"
   ]
  },
  {
   "cell_type": "code",
   "execution_count": 63,
   "id": "554fb9e3-e2ce-4047-afc6-acd5326afbd6",
   "metadata": {},
   "outputs": [],
   "source": [
    "# 📥 Import the necessary libraries for the planned data analysis\n",
    "# 📥 Realizar las importaciones necesarias para el análisis de datos previsto\n",
    "\n",
    "import pandas as pd\n",
    "import plotly.express as px\n",
    "import ipywidgets as widgets\n",
    "from IPython.display import display"
   ]
  },
  {
   "cell_type": "code",
   "execution_count": 64,
   "id": "a6193b73-9364-453b-8e27-2ca935d012e4",
   "metadata": {},
   "outputs": [
    {
     "name": "stdout",
     "output_type": "stream",
     "text": [
      "Datos descargados correctamente\n"
     ]
    }
   ],
   "source": [
    "# Obtener la información, la cual proviene de \"Our World in Data\" link: https://ourworldindata.org/grapher/child-mortality#research-and-writing\n",
    "\n",
    "url = 'https://ourworldindata.org/grapher/child-mortality-gdp-per-capita.csv?v=1&csvType=full&useColumnShortNames=true'\n",
    "df = pd.read_csv(url)\n",
    "df.to_csv(\"../data/raw/child-mortality.csv\", index=False)\n",
    "print(\"Datos descargados correctamente\")"
   ]
  },
  {
   "cell_type": "code",
   "execution_count": 65,
   "id": "dafebd97-6f39-480a-abf4-4607c7db3424",
   "metadata": {},
   "outputs": [
    {
     "data": {
      "text/html": [
       "<div>\n",
       "<style scoped>\n",
       "    .dataframe tbody tr th:only-of-type {\n",
       "        vertical-align: middle;\n",
       "    }\n",
       "\n",
       "    .dataframe tbody tr th {\n",
       "        vertical-align: top;\n",
       "    }\n",
       "\n",
       "    .dataframe thead th {\n",
       "        text-align: right;\n",
       "    }\n",
       "</style>\n",
       "<table border=\"1\" class=\"dataframe\">\n",
       "  <thead>\n",
       "    <tr style=\"text-align: right;\">\n",
       "      <th></th>\n",
       "      <th>Entity</th>\n",
       "      <th>Code</th>\n",
       "      <th>Year</th>\n",
       "      <th>child_mortality_rate</th>\n",
       "      <th>gdp_per_capita</th>\n",
       "      <th>900793-annotations</th>\n",
       "      <th>population_historical</th>\n",
       "      <th>owid_region</th>\n",
       "    </tr>\n",
       "  </thead>\n",
       "  <tbody>\n",
       "    <tr>\n",
       "      <th>0</th>\n",
       "      <td>Afghanistan</td>\n",
       "      <td>AFG</td>\n",
       "      <td>1957</td>\n",
       "      <td>37.13</td>\n",
       "      <td>1253.0</td>\n",
       "      <td>NaN</td>\n",
       "      <td>8588340.0</td>\n",
       "      <td>NaN</td>\n",
       "    </tr>\n",
       "    <tr>\n",
       "      <th>1</th>\n",
       "      <td>Afghanistan</td>\n",
       "      <td>AFG</td>\n",
       "      <td>1958</td>\n",
       "      <td>36.52</td>\n",
       "      <td>1298.0</td>\n",
       "      <td>NaN</td>\n",
       "      <td>8723412.0</td>\n",
       "      <td>NaN</td>\n",
       "    </tr>\n",
       "    <tr>\n",
       "      <th>2</th>\n",
       "      <td>Afghanistan</td>\n",
       "      <td>AFG</td>\n",
       "      <td>1959</td>\n",
       "      <td>35.95</td>\n",
       "      <td>1307.0</td>\n",
       "      <td>NaN</td>\n",
       "      <td>8869270.0</td>\n",
       "      <td>NaN</td>\n",
       "    </tr>\n",
       "    <tr>\n",
       "      <th>3</th>\n",
       "      <td>Afghanistan</td>\n",
       "      <td>AFG</td>\n",
       "      <td>1960</td>\n",
       "      <td>35.32</td>\n",
       "      <td>1326.0</td>\n",
       "      <td>NaN</td>\n",
       "      <td>9035048.0</td>\n",
       "      <td>NaN</td>\n",
       "    </tr>\n",
       "    <tr>\n",
       "      <th>4</th>\n",
       "      <td>Afghanistan</td>\n",
       "      <td>AFG</td>\n",
       "      <td>1961</td>\n",
       "      <td>34.76</td>\n",
       "      <td>1309.0</td>\n",
       "      <td>NaN</td>\n",
       "      <td>9214082.0</td>\n",
       "      <td>NaN</td>\n",
       "    </tr>\n",
       "  </tbody>\n",
       "</table>\n",
       "</div>"
      ],
      "text/plain": [
       "        Entity Code  Year  child_mortality_rate  gdp_per_capita  \\\n",
       "0  Afghanistan  AFG  1957                 37.13          1253.0   \n",
       "1  Afghanistan  AFG  1958                 36.52          1298.0   \n",
       "2  Afghanistan  AFG  1959                 35.95          1307.0   \n",
       "3  Afghanistan  AFG  1960                 35.32          1326.0   \n",
       "4  Afghanistan  AFG  1961                 34.76          1309.0   \n",
       "\n",
       "  900793-annotations  population_historical owid_region  \n",
       "0                NaN              8588340.0         NaN  \n",
       "1                NaN              8723412.0         NaN  \n",
       "2                NaN              8869270.0         NaN  \n",
       "3                NaN              9035048.0         NaN  \n",
       "4                NaN              9214082.0         NaN  "
      ]
     },
     "execution_count": 65,
     "metadata": {},
     "output_type": "execute_result"
    }
   ],
   "source": [
    "df.head()"
   ]
  },
  {
   "cell_type": "code",
   "execution_count": 66,
   "id": "da102a95-de55-4e02-ad61-9da6fab0a81e",
   "metadata": {},
   "outputs": [
    {
     "data": {
      "text/html": [
       "<div>\n",
       "<style scoped>\n",
       "    .dataframe tbody tr th:only-of-type {\n",
       "        vertical-align: middle;\n",
       "    }\n",
       "\n",
       "    .dataframe tbody tr th {\n",
       "        vertical-align: top;\n",
       "    }\n",
       "\n",
       "    .dataframe thead th {\n",
       "        text-align: right;\n",
       "    }\n",
       "</style>\n",
       "<table border=\"1\" class=\"dataframe\">\n",
       "  <thead>\n",
       "    <tr style=\"text-align: right;\">\n",
       "      <th></th>\n",
       "      <th>Entity</th>\n",
       "      <th>Code</th>\n",
       "      <th>Year</th>\n",
       "      <th>child_mortality_rate</th>\n",
       "      <th>gdp_per_capita</th>\n",
       "      <th>900793-annotations</th>\n",
       "      <th>population_historical</th>\n",
       "      <th>owid_region</th>\n",
       "    </tr>\n",
       "  </thead>\n",
       "  <tbody>\n",
       "    <tr>\n",
       "      <th>0</th>\n",
       "      <td>Afghanistan</td>\n",
       "      <td>AFG</td>\n",
       "      <td>1957</td>\n",
       "      <td>37.13</td>\n",
       "      <td>1253.0</td>\n",
       "      <td>NaN</td>\n",
       "      <td>8588340.0</td>\n",
       "      <td>NaN</td>\n",
       "    </tr>\n",
       "    <tr>\n",
       "      <th>1</th>\n",
       "      <td>Afghanistan</td>\n",
       "      <td>AFG</td>\n",
       "      <td>1958</td>\n",
       "      <td>36.52</td>\n",
       "      <td>1298.0</td>\n",
       "      <td>NaN</td>\n",
       "      <td>8723412.0</td>\n",
       "      <td>NaN</td>\n",
       "    </tr>\n",
       "    <tr>\n",
       "      <th>2</th>\n",
       "      <td>Afghanistan</td>\n",
       "      <td>AFG</td>\n",
       "      <td>1959</td>\n",
       "      <td>35.95</td>\n",
       "      <td>1307.0</td>\n",
       "      <td>NaN</td>\n",
       "      <td>8869270.0</td>\n",
       "      <td>NaN</td>\n",
       "    </tr>\n",
       "    <tr>\n",
       "      <th>3</th>\n",
       "      <td>Afghanistan</td>\n",
       "      <td>AFG</td>\n",
       "      <td>1960</td>\n",
       "      <td>35.32</td>\n",
       "      <td>1326.0</td>\n",
       "      <td>NaN</td>\n",
       "      <td>9035048.0</td>\n",
       "      <td>NaN</td>\n",
       "    </tr>\n",
       "    <tr>\n",
       "      <th>4</th>\n",
       "      <td>Afghanistan</td>\n",
       "      <td>AFG</td>\n",
       "      <td>1961</td>\n",
       "      <td>34.76</td>\n",
       "      <td>1309.0</td>\n",
       "      <td>NaN</td>\n",
       "      <td>9214082.0</td>\n",
       "      <td>NaN</td>\n",
       "    </tr>\n",
       "  </tbody>\n",
       "</table>\n",
       "</div>"
      ],
      "text/plain": [
       "        Entity Code  Year  child_mortality_rate  gdp_per_capita  \\\n",
       "0  Afghanistan  AFG  1957                 37.13          1253.0   \n",
       "1  Afghanistan  AFG  1958                 36.52          1298.0   \n",
       "2  Afghanistan  AFG  1959                 35.95          1307.0   \n",
       "3  Afghanistan  AFG  1960                 35.32          1326.0   \n",
       "4  Afghanistan  AFG  1961                 34.76          1309.0   \n",
       "\n",
       "  900793-annotations  population_historical owid_region  \n",
       "0                NaN              8588340.0         NaN  \n",
       "1                NaN              8723412.0         NaN  \n",
       "2                NaN              8869270.0         NaN  \n",
       "3                NaN              9035048.0         NaN  \n",
       "4                NaN              9214082.0         NaN  "
      ]
     },
     "execution_count": 66,
     "metadata": {},
     "output_type": "execute_result"
    }
   ],
   "source": [
    "# 🧹 Data Cleaning: Removing rows with missing values in Entity (country), Year, and Child Mortality Rate\n",
    "# 🧹 Limpiar los datos, para este caso se van a eliminar las filas que contengan un valor nulo en pais, año y tasa de mortalidad de menores\n",
    "\n",
    "df = df.dropna(subset=[\"Entity\", \"Year\", \"child_mortality_rate\"])\n",
    "df.head()"
   ]
  },
  {
   "cell_type": "code",
   "execution_count": 67,
   "id": "61b90abe-19f9-437f-b407-335606c494c3",
   "metadata": {},
   "outputs": [],
   "source": [
    "# 🎛️ Creating selectors for the interactive menu\n",
    "# 🎛️ Creación de los selectores para el menú interactivo\n",
    "\n",
    "year_selector = widgets.Dropdown(\n",
    "    options=sorted(df[\"Year\"].unique(), reverse=True),\n",
    "    value=df[\"Year\"].max(),\n",
    "    description=\"Año:\"\n",
    ")\n",
    "\n",
    "country_selector = widgets.Dropdown(\n",
    "    options=sorted(df[\"Entity\"].unique()),\n",
    "    value=\"Colombia\",\n",
    "    description=\"País:\"\n",
    ")\n",
    "\n",
    "compare_selector = widgets.Dropdown(\n",
    "    options=[\"Promedio mundial\"] + sorted(df[\"Entity\"].unique()),\n",
    "    value=\"Promedio mundial\",\n",
    "    description=\"Comparar con:\"\n",
    ")"
   ]
  },
  {
   "cell_type": "code",
   "execution_count": 68,
   "id": "1ed0ab44-4d01-4211-b85c-d5c979021973",
   "metadata": {},
   "outputs": [],
   "source": [
    "# 📈 Function to update the charts, which receives three parameters to plot the corresponding information\n",
    "# 📈 Función para actualizar los gráficos, la cual recibe tres parámetros para gráficar la información correspondiente.\n",
    "\n",
    "def update_chart(year, country, compare):\n",
    "    df_year = df[df[\"Year\"] == year]\n",
    "\n",
    "    # Top 5 países por defecto\n",
    "    top5 = df_year.sort_values(\"child_mortality_rate\", ascending=False).head(5)\n",
    "    topbest5 = df_year.sort_values(\"child_mortality_rate\", ascending=True).head(5)\n",
    "\n",
    "    # País seleccionado y comparación\n",
    "    selected = df_year[df_year[\"Entity\"] == country]\n",
    "    if compare == \"Promedio mundial\":\n",
    "        avg = df_year[\"child_mortality_rate\"].mean()\n",
    "        compare_label = \"Promedio mundial\"\n",
    "    else:\n",
    "        avg = df_year[df_year[\"Entity\"] == compare][\"child_mortality_rate\"].values[0]\n",
    "        compare_label = compare\n",
    "\n",
    "    # Crear dataframe de comparación\n",
    "    comp_df = pd.DataFrame({\n",
    "        \"Entity\": [country, compare_label],\n",
    "        \"child_mortality_rate\": [selected[\"child_mortality_rate\"].values[0], avg]\n",
    "    })\n",
    "\n",
    "    # === Gráficos Top 5 ===\n",
    "    fig1 = px.bar(top5, x=\"Entity\", y=\"child_mortality_rate\",\n",
    "                  title=f\"Top 5 países con mayor mortalidad infantil en {year}\",\n",
    "                  color=\"child_mortality_rate\", color_continuous_scale=\"Reds\")\n",
    "    \n",
    "    fig2 = px.bar(topbest5, x=\"Entity\", y=\"child_mortality_rate\",\n",
    "                  title=f\"Top 5 países con menor mortalidad en {year}\",\n",
    "                  color=\"child_mortality_rate\", color_continuous_scale=\"Greens\")\n",
    "\n",
    "    # === Gráfico de comparación ===\n",
    "    fig3 = px.bar(comp_df, x=\"Entity\", y=\"child_mortality_rate\",\n",
    "                  title=f\"Comparación de {country} vs {compare_label} ({year})\",\n",
    "                  color=\"child_mortality_rate\", color_continuous_scale=\"Blues\")\n",
    "\n",
    "    fig1.show()\n",
    "    fig2.show()\n",
    "    fig3.show()"
   ]
  },
  {
   "cell_type": "code",
   "execution_count": 69,
   "id": "97e73875-72a8-4cf5-941e-923ea92876dd",
   "metadata": {
    "scrolled": true
   },
   "outputs": [
    {
     "data": {
      "application/vnd.jupyter.widget-view+json": {
       "model_id": "b23b876a958948f98eb4e59efeabc2b7",
       "version_major": 2,
       "version_minor": 0
      },
      "text/plain": [
       "interactive(children=(Dropdown(description='Año:', options=(np.int64(2023), np.int64(2022), np.int64(2021), np…"
      ]
     },
     "execution_count": 69,
     "metadata": {},
     "output_type": "execute_result"
    }
   ],
   "source": [
    "# 🧩 Widgets for interactivity\n",
    "# 🧩 Widgets para interactividad\n",
    "\n",
    "widgets.interactive(update_chart,\n",
    "                    year=year_selector,\n",
    "                    country=country_selector,\n",
    "                    compare=compare_selector)\n"
   ]
  },
  {
   "cell_type": "markdown",
   "id": "6160b4e6-4b49-4e19-a84d-aa07e50b5091",
   "metadata": {},
   "source": [
    "<div style=\"background-color:#e6f2ff; padding:15px; border-radius:8px;\">\n",
    "  <h3>📊 Analysis of the first charts</h3>\n",
    "  <p>The first two charts display the countries with the <strong>highest</strong> and <strong>lowest child mortality rates</strong> for the selected year (default is <strong>2023</strong>).</p>\n",
    "  <p><strong>Niger</strong> and <strong>Nigeria</strong> show the highest rates, while <strong>San Marino</strong> and <strong>Estonia</strong> represent the opposite end with the lowest rates.</p>\n",
    "  <p>The third chart highlights <strong>Colombia's</strong> position compared to other countries, showing that its child mortality rate is <strong>significantly lower than the global average</strong>.</p>\n",
    "</div>"
   ]
  },
  {
   "cell_type": "markdown",
   "id": "6aec3343-8f4a-4b5f-ae58-66ab3bddc84e",
   "metadata": {},
   "source": [
    "<div style=\"background-color:#e6ffe6; padding:15px; border-radius:8px;\">\n",
    "  <h3>📊 Análisis de los primeros gráficos</h3>\n",
    "  <p>La información presentada en los dos primeros gráficos muestra los países con la <strong>mayor</strong> y <strong>menor tasa de mortalidad infantil</strong> en el año seleccionado (por defecto, <strong>2023</strong>).</p>\n",
    "  <p>Se observa que <strong>Níger</strong> y <strong>Nigeria</strong> concentran las tasas más altas, mientras que <strong>San Marino</strong> y <strong>Estonia</strong> presentan el contraste opuesto, con las tasas más bajas.</p>\n",
    "  <p>En el tercer gráfico se analiza la posición de <strong>Colombia</strong> en relación con otros países, reflejando que su tasa de mortalidad infantil es <strong>significativamente menor al promedio global</strong>.</p>\n",
    "</div>"
   ]
  },
  {
   "cell_type": "code",
   "execution_count": 70,
   "id": "61fe67f3-15b7-45bd-8a2c-4266e9c2c73f",
   "metadata": {},
   "outputs": [
    {
     "data": {
      "application/vnd.jupyter.widget-view+json": {
       "model_id": "95f45c360b664a8a8ac5589f86a9cd47",
       "version_major": 2,
       "version_minor": 0
      },
      "text/plain": [
       "interactive(children=(Dropdown(description='Año:', options=(np.int64(2023), np.int64(2022), np.int64(2021), np…"
      ]
     },
     "metadata": {},
     "output_type": "display_data"
    },
    {
     "data": {
      "text/plain": [
       "<function __main__.update_map(year)>"
      ]
     },
     "execution_count": 70,
     "metadata": {},
     "output_type": "execute_result"
    }
   ],
   "source": [
    "import pycountry\n",
    "import warnings\n",
    "warnings.filterwarnings(\"ignore\")  # opcional, oculta otros avisos no críticos\n",
    "\n",
    "# 🔧 Convertir nombres de países a ISO-3\n",
    "def to_iso3(name):\n",
    "    try:\n",
    "        return pycountry.countries.lookup(name).alpha_3\n",
    "    except:\n",
    "        return None\n",
    "\n",
    "# Crear columna nueva si no existe\n",
    "if \"iso_code\" not in df.columns:\n",
    "    df[\"iso_code\"] = df[\"Entity\"].apply(to_iso3)\n",
    "\n",
    "# Eliminar filas sin código válido\n",
    "df = df.dropna(subset=[\"iso_code\"])\n",
    "\n",
    "# === Mapa corregido ===\n",
    "def update_map(year):\n",
    "    df_year = df[df[\"Year\"] == year]\n",
    "\n",
    "    fig = px.choropleth(\n",
    "        df_year,\n",
    "        locations=\"iso_code\", \n",
    "        locationmode=\"ISO-3\",\n",
    "        color=\"child_mortality_rate\",\n",
    "        hover_name=\"Entity\",\n",
    "        title=f\"Tasa de mortalidad infantil por país - {year}\",\n",
    "        color_continuous_scale=\"Reds\"\n",
    "    )\n",
    "    fig.update_layout(height=600)\n",
    "    fig.show()\n",
    "\n",
    "widgets.interact(update_map, year=year_selector)\n"
   ]
  },
  {
   "cell_type": "markdown",
   "id": "65ab2f97-6ab5-41d4-807b-9cfdb3e8b847",
   "metadata": {},
   "source": [
    "<div style=\"background-color:#e6f2ff; padding:15px; border-radius:8px;\">\n",
    "  <h3>🗺️ Global Chart Analysis</h3>\n",
    "  <p>This chart displays the <strong>global child mortality rate</strong> for any selected year (default is <strong>2023</strong>).</p>\n",
    "  <p>It shows that the <strong>highest concentration of child mortality</strong> is found in the <strong>African continent</strong>.</p>\n",
    "  <p>Notably, some countries appear blank—such as <strong>Ivory Coast</strong> and the <strong>Democratic Republic of the Congo</strong>—because <strong>no data was available</strong> to include them in the analysis.</p>\n",
    "</div>"
   ]
  },
  {
   "cell_type": "markdown",
   "id": "a12c25fc-a367-4eba-b510-7260de0121a6",
   "metadata": {},
   "source": [
    "<div style=\"background-color:#e6ffe6; padding:15px; border-radius:8px;\">\n",
    "  <h3>🗺️ Análisis del gráfico global</h3>\n",
    "  <p>Este gráfico muestra cómo se encuentra la <strong>tasa de mortalidad infantil a nivel global</strong> para cualquier año seleccionado (por defecto, <strong>2023</strong>).</p>\n",
    "  <p>Se observa que la <strong>mayor concentración de mortalidad infantil</strong> se encuentra en el continente <strong>africano</strong>.</p>\n",
    "  <p>Es importante destacar que algunos países aparecen en blanco, como <strong>Costa de Marfil</strong> y <strong>República Democrática del Congo</strong>, debido a que <strong>no se encontraron datos disponibles</strong> para realizar su análisis.</p>\n",
    "</div>"
   ]
  },
  {
   "cell_type": "markdown",
   "id": "d7c05aae-9951-45d8-b055-081535d86ce3",
   "metadata": {},
   "source": [
    "<div style=\"background-color:#e6f2ff; padding:15px; border-radius:8px;\">\n",
    "  <h2>🧾 Conclusions</h2>\n",
    "  <p>The analysis reveals that countries with <strong>lower development</strong> or those involved in <strong>armed conflicts</strong> tend to have a <strong>higher child mortality rate</strong> relative to their population. This highlights how survival conditions—especially for children—are closely tied to the <strong>sociopolitical context</strong> of each State.</p>\n",
    "  <p>It is concerning to see that the <strong>African continent</strong>, historically exploited by other nations for raw materials, continues to suffer the consequences of such exploitation. The <strong>United Nations</strong>, tasked with maintaining peace, protecting human rights, promoting sustainable development, and coordinating humanitarian aid, should implement measures that <strong>help reduce this crisis</strong>, especially by establishing policies targeting the countries that benefited most from Africa and contributed to its current state of conflict.</p>\n",
    "  <p>Regarding <strong>Colombia</strong>, despite being a nation with internal conflict and less development compared to European countries, it shows a <strong>child mortality rate well below the global average</strong>. However, it should be a <strong>national priority</strong> to implement actions aimed at reducing this phenomenon by identifying and addressing its root causes.</p>\n",
    "</div>\n"
   ]
  },
  {
   "cell_type": "markdown",
   "id": "b920ac05-4262-4895-a8c3-e1ea944553c2",
   "metadata": {},
   "source": [
    "<div style=\"background-color:#e6ffe6; padding:15px; border-radius:8px;\">\n",
    "  <h2>🧾 Conclusiones</h2>\n",
    "  <p>El resultado del análisis muestra cómo los países con <strong>menor desarrollo</strong> o inmersos en <strong>conflictos bélicos</strong> presentan una <strong>mayor tasa de mortalidad infantil</strong> en relación con su población. Esto evidencia que las condiciones de supervivencia de los menores están profundamente ligadas a las <strong>condiciones sociopolíticas</strong> de cada Estado.</p>\n",
    "  <p>Es preocupante observar que el <strong>continente africano</strong>, históricamente explotado por otras naciones para la obtención de materias primas, continúa sufriendo las consecuencias de dichas explotaciones. La <strong>ONU</strong>, como organismo encargado de mantener la paz, proteger los derechos humanos, promover el desarrollo sostenible y coordinar la ayuda humanitaria, debería implementar medidas que <strong>contribuyan a reducir este flagelo</strong>, especialmente a través de políticas dirigidas a los países que más se beneficiaron del continente y que, por sus acciones pasadas, contribuyeron al actual escenario de conflictividad.</p>\n",
    "  <p>En cuanto a <strong>Colombia</strong>, a pesar de ser una nación con conflicto interno y menor desarrollo en comparación con países europeos, presenta una <strong>tasa de mortalidad infantil inferior al promedio mundial</strong>. No obstante, debería ser una <strong>prioridad para el Gobierno Nacional</strong> implementar acciones orientadas a reducir este fenómeno, identificando y contrarrestando sus principales causas.</p>\n",
    "</div>\n"
   ]
  }
 ],
 "metadata": {
  "kernelspec": {
   "display_name": "Python [conda env:base] *",
   "language": "python",
   "name": "conda-base-py"
  },
  "language_info": {
   "codemirror_mode": {
    "name": "ipython",
    "version": 3
   },
   "file_extension": ".py",
   "mimetype": "text/x-python",
   "name": "python",
   "nbconvert_exporter": "python",
   "pygments_lexer": "ipython3",
   "version": "3.13.5"
  }
 },
 "nbformat": 4,
 "nbformat_minor": 5
}
